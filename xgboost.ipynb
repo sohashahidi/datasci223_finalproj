{
 "cells": [
  {
   "cell_type": "code",
   "execution_count": 1,
   "metadata": {},
   "outputs": [
    {
     "name": "stdout",
     "output_type": "stream",
     "text": [
      "Note: you may need to restart the kernel to use updated packages.\n"
     ]
    }
   ],
   "source": [
    "%pip install -q emnist pandas pyarrow numpy matplotlib seaborn scikit-learn xgboost tensorflow\n",
    "%reset -f"
   ]
  },
  {
   "cell_type": "code",
   "execution_count": 7,
   "metadata": {},
   "outputs": [],
   "source": [
    "# Import packages\n",
    "import os\n",
    "import string\n",
    "import random\n",
    "import numpy as np\n",
    "import pandas as pd\n",
    "import matplotlib.pyplot as plt\n",
    "import seaborn as sns\n",
    "import emnist\n",
    "from IPython.display import display, Markdown\n",
    "from itertools import product\n",
    "\n",
    "# ML packages\n",
    "from sklearn.metrics import confusion_matrix, accuracy_score, precision_score, recall_score, f1_score, ConfusionMatrixDisplay, classification_report\n",
    "from sklearn.preprocessing import StandardScaler, LabelEncoder\n",
    "from sklearn.model_selection import train_test_split, cross_val_score, KFold, ParameterGrid\n",
    "# XGBoost (SVM)\n",
    "from xgboost import XGBClassifier\n",
    "\n",
    "# Constants\n",
    "SIZE = 28"
   ]
  },
  {
   "cell_type": "code",
   "execution_count": 3,
   "metadata": {},
   "outputs": [
    {
     "name": "stdout",
     "output_type": "stream",
     "text": [
      "(243, 16379)\n",
      "(243, 16378)\n",
      "(243, 16378)\n",
      "(243, 1)\n"
     ]
    }
   ],
   "source": [
    "# Load tabular dataset \n",
    "datafile = '~/Downloads/csd.csv'\n",
    "df = pd.read_csv(datafile)\n",
    "\n",
    "# Trim unused columns\n",
    "df_trimmed = df.loc[:, ~df.columns.isin(['feature', 'grade', 'stage'])] \n",
    "print(df_trimmed.shape)\n",
    "df_trimmed.head()\n",
    "\n",
    "# Split dataset into features and outcomes\n",
    "features = df_trimmed.drop('OS_vital_status', axis = 1)\n",
    "outcome = df_trimmed['OS_vital_status']\n",
    "\n",
    "# Find categorical columns\n",
    "cat_cols = features.select_dtypes(include = ['object']).columns\n",
    "cat_cols\n",
    "\n",
    "# Convert categorical predictors to dummy variables\n",
    "features['gender'].value_counts()\n",
    "features = pd.get_dummies(features, columns = cat_cols, drop_first = True)\n",
    "print(features.shape)\n",
    "features.head(10)\n",
    "\n",
    "# Convert binary outcome to dummy variables\n",
    "outcome = pd.get_dummies(outcome, drop_first = True)\n",
    "outcome\n",
    "\n",
    "# Convert to numpy arrays\n",
    "features = features.values\n",
    "print(features.shape)\n",
    "outcome = outcome.values\n",
    "print(outcome.shape)"
   ]
  },
  {
   "cell_type": "code",
   "execution_count": 5,
   "metadata": {},
   "outputs": [
    {
     "name": "stdout",
     "output_type": "stream",
     "text": [
      "Best Model Parameters: {'objective': 'binary:logistic', 'base_score': None, 'booster': None, 'callbacks': None, 'colsample_bylevel': None, 'colsample_bynode': None, 'colsample_bytree': None, 'device': None, 'early_stopping_rounds': None, 'enable_categorical': False, 'eval_metric': None, 'feature_types': None, 'gamma': None, 'grow_policy': None, 'importance_type': None, 'interaction_constraints': None, 'learning_rate': None, 'max_bin': None, 'max_cat_threshold': None, 'max_cat_to_onehot': None, 'max_delta_step': None, 'max_depth': 1, 'max_leaves': None, 'min_child_weight': None, 'missing': nan, 'monotone_constraints': None, 'multi_strategy': None, 'n_estimators': 100, 'n_jobs': None, 'num_parallel_tree': None, 'random_state': None, 'reg_alpha': None, 'reg_lambda': None, 'sampling_method': None, 'scale_pos_weight': None, 'subsample': None, 'tree_method': None, 'validate_parameters': None, 'verbosity': None, 'eta': 0.1}\n",
      "Best Model Average Cross-Validation Score: 0.7780026990553306\n"
     ]
    }
   ],
   "source": [
    "# Hyperparameter grid\n",
    "xgb_param_grid = {'n_estimators': [50, 100, 200, 500], 'max_depth': [1, 2, 3, 4, 5, 6], 'eta': [0.1, 0.3]}\n",
    "scoring_metric = 'accuracy'\n",
    "\n",
    "# Train/Test Split\n",
    "X_train, X_test, y_train, y_test = train_test_split(features, outcome, random_state = 42, test_size = 0.2)\n",
    "\n",
    "# Hyperparameter tuning\n",
    "kf = KFold(n_splits = 5, shuffle = True, random_state = 42)\n",
    "\n",
    "# Initializing scores\n",
    "best_score = 0\n",
    "best_model = None\n",
    "\n",
    "for param_combination in ParameterGrid(xgb_param_grid):\n",
    "    xgb_classifier = XGBClassifier().set_params(**param_combination)\n",
    "    fold_scores = []\n",
    "\n",
    "    # 3.A. Split train using k-fold with the number of folds \n",
    "\t\t\t\t\t\t# equal to the number of parameter combinations\n",
    "    for train_index, test_index in kf.split(X_train):\n",
    "        X_fold_train, X_fold_test = X_train[train_index], X_train[test_index]\n",
    "        y_fold_train, y_fold_test = y_train[train_index], y_train[test_index]\n",
    "\n",
    "        # 3.B. Train on k-fold split\n",
    "        xgb_classifier.fit(X_fold_train, y_fold_train)\n",
    "\n",
    "        # 3.C. Record performance of each set of parameters\n",
    "        y_pred = xgb_classifier.predict(X_fold_test)\n",
    "        fold_score = accuracy_score(y_fold_test, y_pred)\n",
    "        fold_scores.append(fold_score)\n",
    "\n",
    "    # 3.D. Use winning set of parameters to train model on full training set\n",
    "    avg_score = np.mean(fold_scores)\n",
    "    if avg_score > best_score:\n",
    "        best_score = avg_score\n",
    "        best_model = xgb_classifier.get_params()\n",
    "\n",
    "# Display winning model\n",
    "print(f\"Best Model Parameters: {best_model}\")\n",
    "print(f\"Best Model Average Cross-Validation Score: {best_score}\")\n"
   ]
  },
  {
   "cell_type": "code",
   "execution_count": 8,
   "metadata": {},
   "outputs": [
    {
     "name": "stdout",
     "output_type": "stream",
     "text": [
      "              precision    recall  f1-score   support\n",
      "\n",
      "       Alive       0.62      0.96      0.75        27\n",
      "        Died       0.86      0.27      0.41        22\n",
      "\n",
      "    accuracy                           0.65        49\n",
      "   macro avg       0.74      0.62      0.58        49\n",
      "weighted avg       0.73      0.65      0.60        49\n",
      "\n",
      "Accuracy: 0.6530612244897959\n"
     ]
    },
    {
     "data": {
      "image/png": "[encoded data removed]",
      "text/plain": [
       "<Figure size 640x480 with 2 Axes>"
      ]
     },
     "metadata": {},
     "output_type": "display_data"
    }
   ],
   "source": [
    "# Train best model on full training dataset\n",
    "xgb_clf = XGBClassifier(**best_model)\n",
    "xgb_clf.fit(X_train, y_train)\n",
    "\n",
    "# Evaluate model\n",
    "y_pred = xgb_clf.predict(X_test)\n",
    "\n",
    "# Calculate performance metrics\n",
    "acc = accuracy_score(y_test, y_pred)\n",
    "prec = precision_score(y_test, y_pred, average='binary', zero_division = 1)\n",
    "rec = recall_score(y_test, y_pred, average = 'binary')\n",
    "f1 = f1_score(y_test, y_pred, average = 'binary')\n",
    "cm = confusion_matrix(y_test, y_pred, labels = xgb_clf.classes_)\n",
    "\n",
    "ConfusionMatrixDisplay.from_predictions(y_test, y_pred)\n",
    "print(classification_report(y_test, y_pred, target_names = ['Alive', 'Died']))\n",
    "print(f'Accuracy: {accuracy_score(y_test, y_pred)}')"
   ]
  }
 ],
 "metadata": {
  "kernelspec": {
   "display_name": "venv",
   "language": "python",
   "name": "python3"
  },
  "language_info": {
   "codemirror_mode": {
    "name": "ipython",
    "version": 3
   },
   "file_extension": ".py",
   "mimetype": "text/x-python",
   "name": "python",
   "nbconvert_exporter": "python",
   "pygments_lexer": "ipython3",
   "version": "3.11.7"
  }
 },
 "nbformat": 4,
 "nbformat_minor": 2
}
